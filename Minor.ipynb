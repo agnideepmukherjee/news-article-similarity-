{
 "cells": [
  {
   "cell_type": "markdown",
   "metadata": {
    "colab_type": "text",
    "id": "view-in-github"
   },
   "source": [
    "<a href=\"https://colab.research.google.com/github/Nightking23/News-article-similarity/blob/main/Minor.ipynb\" target=\"_parent\"><img src=\"https://colab.research.google.com/assets/colab-badge.svg\" alt=\"Open In Colab\"/></a>"
   ]
  },
  {
   "cell_type": "code",
   "execution_count": null,
   "metadata": {
    "id": "-0ooQEwHu8mV"
   },
   "outputs": [],
   "source": [
    "!pip install newspaper3k"
   ]
  },
  {
   "cell_type": "code",
   "execution_count": null,
   "metadata": {
    "id": "0LH3_aIcvHLj"
   },
   "outputs": [],
   "source": [
    "from newspaper import Article\n",
    "import nltk"
   ]
  },
  {
   "cell_type": "code",
   "execution_count": null,
   "metadata": {
    "colab": {
     "base_uri": "https://localhost:8080/"
    },
    "id": "BL5W6dwuxOPQ",
    "outputId": "22040eca-fe29-4720-9c4c-bed525ce1b75"
   },
   "outputs": [
    {
     "name": "stdout",
     "output_type": "stream",
     "text": [
      "[nltk_data] Downloading package punkt to /root/nltk_data...\n",
      "[nltk_data]   Unzipping tokenizers/punkt.zip.\n"
     ]
    },
    {
     "data": {
      "text/plain": [
       "True"
      ]
     },
     "execution_count": 3,
     "metadata": {},
     "output_type": "execute_result"
    }
   ],
   "source": [
    "nltk.download('punkt')"
   ]
  },
  {
   "cell_type": "code",
   "execution_count": null,
   "metadata": {
    "colab": {
     "base_uri": "https://localhost:8080/"
    },
    "id": "h6N8lpy2xS4l",
    "outputId": "e6c4a132-725d-4fd2-b6cd-167ac117a72f"
   },
   "outputs": [
    {
     "name": "stdout",
     "output_type": "stream",
     "text": [
      "['https://www.ndtv.com/india-news/indias-4th-case-of-omicron-detected-near-mumbai-2637276', 'https://timesofindia.indiatimes.com/india/coronavirus-omicron-live-updates-india-and-world-december-4/liveblog/88081717.cms', 'https://www.financialexpress.com/lifestyle/health/coronavirus-covid-19-latest-news-omicron-swiftly-navigating-through-the-globe-us-detects-new-variant-in-multiple-states-india-records-9216-new-covid-19-cases/2381072/', 'https://www.who.int/news/item/28-11-2021-update-on-omicron']\n"
     ]
    }
   ],
   "source": [
    "lst=[]\n",
    "lst.append('https://www.ndtv.com/india-news/indias-4th-case-of-omicron-detected-near-mumbai-2637276')\n",
    "lst.append('https://timesofindia.indiatimes.com/india/coronavirus-omicron-live-updates-india-and-world-december-4/liveblog/88081717.cms')\n",
    "lst.append('https://www.financialexpress.com/lifestyle/health/coronavirus-covid-19-latest-news-omicron-swiftly-navigating-through-the-globe-us-detects-new-variant-in-multiple-states-india-records-9216-new-covid-19-cases/2381072/')\n",
    "lst.append('https://www.who.int/news/item/28-11-2021-update-on-omicron')\n",
    "print(lst)"
   ]
  },
  {
   "cell_type": "code",
   "execution_count": null,
   "metadata": {
    "colab": {
     "base_uri": "https://localhost:8080/"
    },
    "id": "UKcO4C9Tyx4P",
    "outputId": "433590d5-2375-4efb-c3b5-7d44c66f73b1"
   },
   "outputs": [
    {
     "name": "stdout",
     "output_type": "stream",
     "text": [
      "\n",
      "\n",
      "Article No. 1\n",
      "\n",
      "\n",
      "Title:\n",
      "India's 4th Omicron Patient Near Mumbai, Was Unvaccinated: 10 Points\n",
      "\n",
      "\n",
      "Text:\n",
      "According to an official quoted by news agency PTI, he had not taken any COVID-19 vaccine since he had been at sea for months as a marine engineer. On 24th November, the passenger reported mild fever after landing in Mumbai and is being treated at the Covid Care Centre in Kalyan-Dombivali.\n",
      "\n",
      "Twelve of the passenger's high-risk contacts and 23 low-risk contacts have been traced and all have tested negative for COVID-19. Additionally, 25 of his co-passengers from the Delhi-Mumbai flight have also tested negative. More contacts are currently being traced.\n",
      "\n",
      "The Maharashtra government also said that the Omicron variant has not been detected in tests conducted on a 60-year-old man who had arrived from Zambia, who has instead been found to be positive for \"a sub-lineage of Delta variant\".\n",
      "\n",
      "Earlier in the day, a man who returned from Zimbabwe was found infected with the Omicron variant of coronavirus in Gujarat's Jamnagar, the state health department said, in the third case of the strain in India.\n",
      "\n",
      "The other two cases in India are of a 46-year-old fully vaccinated doctor from Bengaluru, who had no travel history and developed symptoms of fever and body ache, and a 66-year-old South African national who came to India with a negative COVID-19 report.\n",
      "\n",
      "The country has stepped up testing and surveillance of all incoming international passengers, especially from at-risk nations since the Omicron variant was first detected in South Africa.\n",
      "\n",
      "The World Health Organisation has said it could take weeks to determine whether Omicron is more transmissible and whether it causes more severe infections - as well as how effective current treatments and vaccines are against it.\n",
      "\n",
      "But the new variant has already cast the world's recovery into doubt. More than two dozen nations including India have now detected cases of the variant.\n",
      "\n",
      "The Health Ministry on Friday said it expects the Omicron variant to cause less severe disease, thanks to vaccinations and high prior exposure to the Delta variant that infected nearly 70 per cent of the population by July.\n",
      "\n",
      "\n",
      "Summary:\n",
      "On 24th November, the passenger reported mild fever after landing in Mumbai and is being treated at the Covid Care Centre in Kalyan-Dombivali.\n",
      "Twelve of the passenger's high-risk contacts and 23 low-risk contacts have been traced and all have tested negative for COVID-19.\n",
      "Additionally, 25 of his co-passengers from the Delhi-Mumbai flight have also tested negative.\n",
      "The country has stepped up testing and surveillance of all incoming international passengers, especially from at-risk nations since the Omicron variant was first detected in South Africa.\n",
      "More than two dozen nations including India have now detected cases of the variant.\n",
      "\n",
      "\n",
      "Keywords:\n",
      "\n",
      "\n",
      "['south', 'unvaccinated', 'detected', 'india', 'variant', '4th', 'indias', 'negative', 'contacts', 'tested', 'patient', 'points', 'health', 'near', 'covid19', 'mumbai', 'omicron']\n",
      "\n",
      "\n",
      "Article No. 2\n",
      "\n",
      "\n",
      "Title:\n",
      "Omicron India live updates: 5 who arrived in Bengaluru from South Africa are ‘missing’\n",
      "\n",
      "\n",
      "Text:\n",
      "Omicron live updates: New variant found in almost one-third of US states\n",
      "\n",
      "Delhi reported its first case of new Covid-19 Variant Omicron on Sunday. This is the fifth case of Omicron reported in the country. The first two cases of Omicron were reported in Karnataka. On Saturday, the third and the fourth case of the infection were reported from Gujarat's Jamnagar and Maharashtra's Dombivli respectively. Stay with TOI for all updatesRead Less\n",
      "\n",
      "\n",
      "Summary:\n",
      "Omicron live updates: New variant found in almost one-third of US statesDelhi reported its first case of new Covid-19 Variant Omicron on Sunday.\n",
      "This is the fifth case of Omicron reported in the country.\n",
      "The first two cases of Omicron were reported in Karnataka.\n",
      "On Saturday, the third and the fourth case of the infection were reported from Gujarat's Jamnagar and Maharashtra's Dombivli respectively.\n",
      "Stay with TOI for all updatesRead Less\n",
      "\n",
      "\n",
      "Keywords:\n",
      "\n",
      "\n",
      "['statesdelhi', 'updates', 'case', 'toi', 'updatesread', 'respectively', 'live', 'arrived', 'reported', 'missing', 'variant', 'africa', 'bengaluru', 'south', 'india', 'omicron', 'stay']\n",
      "\n",
      "\n",
      "Article No. 3\n",
      "\n",
      "\n",
      "Title:\n",
      "Coronavirus Omicron India December 4 Highlights: Omicron reaches Maharashtra, Kalyan resident tests +ve for new variant\n",
      "\n",
      "\n",
      "Text:\n",
      "The cumulative number of vaccine doses administered in the country so far has exceeded 126.53 crore.\n",
      "\n",
      "Coronavirus Vaccine Registration, Coronavirus Omicron Variant Cases in India Highlights: Gujarat’s health department has confirmed one more case of Omicron variant which takes up India’s total tally of Omicron cases to three. According to news agency PTI, the infected man is 72-year-old man and had returned to Jamnagar city of Gujarat from Zimbabwe. The Gujarat health department had on Friday informed that the man’s samples were sent for laboratory testing to identify whether he was infected with the new mutant Omicron or not. A South Africa returnee was also booked for violating home quarantine protocol, Chandigarh Health Secretary Yashpal Garg told news agency ANI on Saturday. The woman in question had returned on December 1. Although her RT-PCR report came out to be negative, she still broke home quarantine on December 2 and checked into a hotel. Keeping in view the possibility of travelers breaking protocols and checking into hotels, the local administration has directed the hotels to ask for 15-day travel history of international travelers.\n",
      "\n",
      "Two cases of Omicron variant were reported from Karnataka on Thursday after which a wave of panic, fear and concern was felt across states. The Ministry of Health and Family Welfare on Thursday issued a list of frequently asked questions about the Omicron variant. The Centre had earlier also informed that given Omicron’s characteristics, it is likely to spread to more countries, including India, but given the high exposure to delta variant and high-paced vaccination, the severity of the disease is expected to be low.\n",
      "\n",
      "Meanwhile, India reported 8,603 new cases of Covid-19 infections on Saturday. The tally of Coronavirus cases rose to 3,46,24,360, but active cases declined to 99,974, as per the data updated by the Union Health Ministry. However, an uptick was seen in the death toll which rose to 4,70,530 with 415 fatalities reported on Saturday. The cumulative number of vaccine doses administered in the country so far has exceeded 126.53 crore.\n",
      "\n",
      "Here are the latest and verified Covid-19 updates from India and around the globe:\n",
      "\n",
      "\n",
      "Summary:\n",
      "Coronavirus Vaccine Registration, Coronavirus Omicron Variant Cases in India Highlights: Gujarat’s health department has confirmed one more case of Omicron variant which takes up India’s total tally of Omicron cases to three.\n",
      "Two cases of Omicron variant were reported from Karnataka on Thursday after which a wave of panic, fear and concern was felt across states.\n",
      "The Ministry of Health and Family Welfare on Thursday issued a list of frequently asked questions about the Omicron variant.\n",
      "Meanwhile, India reported 8,603 new cases of Covid-19 infections on Saturday.\n",
      "The tally of Coronavirus cases rose to 3,46,24,360, but active cases declined to 99,974, as per the data updated by the Union Health Ministry.\n",
      "\n",
      "\n",
      "Keywords:\n",
      "\n",
      "\n",
      "['highlights', 'reported', 'kalyan', 'variant', 'tests', 'vaccine', 'returned', 'maharashtra', 'health', 'cases', 'reaches', 'rose', 'india', 'tally', 've', 'omicron', 'resident']\n",
      "\n",
      "\n",
      "Article No. 4\n",
      "\n",
      "\n",
      "Title:\n",
      "Update on Omicron\n",
      "\n",
      "\n",
      "Text:\n",
      "On 26 November 2021, WHO designated the variant B.1.1.529 a variant of concern, named Omicron, on the advice of WHO’s Technical Advisory Group on Virus Evolution (TAG-VE). This decision was based on the evidence presented to the TAG-VE that Omicron has several mutations that may have an impact on how it behaves, for example, on how easily it spreads or the severity of illness it causes. Here is a summary of what is currently known.\n",
      "\n",
      "Current knowledge about Omicron\n",
      "\n",
      "Researchers in South Africa and around the world are conducting studies to better understand many aspects of Omicron and will continue to share the findings of these studies as they become available.\n",
      "\n",
      "\n",
      "\n",
      "Transmissibility: It is not yet clear whether Omicron is more transmissible (e.g., more easily spread from person to person) compared to other variants, including Delta. The number of people testing positive has risen in areas of South Africa affected by this variant, but epidemiologic studies are underway to understand if it is because of Omicron or other factors.\n",
      "\n",
      "\n",
      "\n",
      "Severity of disease: It is not yet clear whether infection with Omicron causes more severe disease compared to infections with other variants, including Delta. Preliminary data suggests that there are increasing rates of hospitalization in South Africa, but this may be due to increasing overall numbers of people becoming infected, rather than a result of specific infection with Omicron. There is currently no information to suggest that symptoms associated with Omicron are different from those from other variants. Initial reported infections were among university students—younger individuals who tend to have more mild disease—but understanding the level of severity of the Omicron variant will take days to several weeks. All variants of COVID-19, including the Delta variant that is dominant worldwide, can cause severe disease or death, in particular for the most vulnerable people, and thus prevention is always key.\n",
      "\n",
      "Effectiveness of prior SARS-CoV-2 infection\n",
      "\n",
      "Preliminary evidence suggests there may be an increased risk of reinfection with Omicron (ie, people who have previously had COVID-19 could become reinfected more easily with Omicron), as compared to other variants of concern, but information is limited. More information on this will become available in the coming days and weeks.\n",
      "\n",
      "\n",
      "\n",
      "Effectiveness of vaccines: WHO is working with technical partners to understand the potential impact of this variant on our existing countermeasures, including vaccines. Vaccines remain critical to reducing severe disease and death, including against the dominant circulating variant, Delta. Current vaccines remain effective against severe disease and death.\n",
      "\n",
      "Effectiveness of current tests: The widely used PCR tests continue to detect infection, including infection with Omicron, as we have seen with other variants as well. Studies are ongoing to determine whether there is any impact on other types of tests, including rapid antigen detection tests.\n",
      "\n",
      "\n",
      "\n",
      "Effectiveness of current treatments: Corticosteroids and IL6 Receptor Blockers will still be effective for managing patients with severe COVID-19. Other treatments will be assessed to see if they are still as effective given the changes to parts of the virus in the Omicron variant.\n",
      "\n",
      "Studies underway\n",
      "\n",
      "\n",
      "\n",
      "At the present time, WHO is coordinating with a large number of researchers around the world to better understand Omicron. Studies currently underway or underway shortly include assessments of transmissibility, severity of infection (including symptoms), performance of vaccines and diagnostic tests, and effectiveness of treatments.\n",
      "\n",
      "WHO encourages countries to contribute the collection and sharing of hospitalized patient data through the WHO COVID-19 Clinical Data Platform to rapidly describe clinical characteristics and patient outcomes.\n",
      "\n",
      "\n",
      "\n",
      "More information will emerge in the coming days and weeks. WHO’s TAG-VE will continue to monitor and evaluate the data as it becomes available and assess how mutations in Omicron alter the behaviour of the virus.\n",
      "\n",
      "Recommended actions for countries\n",
      "\n",
      "\n",
      "\n",
      "As Omicron has been designated a Variant of Concern, there are several actions WHO recommends countries to undertake, including enhancing surveillance and sequencing of cases; sharing genome sequences on publicly available databases, such as GISAID; reporting initial cases or clusters to WHO; performing field investigations and laboratory assessments to better understand if Omicron has different transmission or disease characteristics, or impacts effectiveness of vaccines, therapeutics, diagnostics or public health and social measures. More detail in the announcement from 26 November.\n",
      "\n",
      "Countries should continue to implement the effective public health measures to reduce COVID-19 circulation overall, using a risk analysis and science-based approach. They should increase some public health and medical capacities to manage an increase in cases. WHO is providing countries with support and guidance for both readiness and response.\n",
      "\n",
      "\n",
      "\n",
      "In addition, it is vitally important that inequities in access to COVID-19 vaccines are urgently addressed to ensure that vulnerable groups everywhere, including health workers and older persons, receive their first and second doses, alongside equitable access to treatment and diagnostics.\n",
      "\n",
      "Recommended actions for people\n",
      "\n",
      "\n",
      "\n",
      "The most effective steps individuals can take to reduce the spread of the COVID-19 virus is to keep a physical distance of at least 1 metre from others; wear a well-fitting mask; open windows to improve ventilation; avoid poorly ventilated or crowded spaces; keep hands clean; cough or sneeze into a bent elbow or tissue; and get vaccinated when it’s their turn.\n",
      "\n",
      "\n",
      "\n",
      "WHO will continue to provide updates as more information becomes available, including following meetings of the TAG-VE. In addition, information will be available on WHO’s digital and social media platforms.\n",
      "\n",
      "\n",
      "\n",
      "\n",
      "\n",
      "Reference material:\n",
      "\n",
      "\n",
      "Summary:\n",
      "Transmissibility: It is not yet clear whether Omicron is more transmissible (e.g., more easily spread from person to person) compared to other variants, including Delta.\n",
      "Severity of disease: It is not yet clear whether infection with Omicron causes more severe disease compared to infections with other variants, including Delta.\n",
      "Initial reported infections were among university students—younger individuals who tend to have more mild disease—but understanding the level of severity of the Omicron variant will take days to several weeks.\n",
      "Other treatments will be assessed to see if they are still as effective given the changes to parts of the virus in the Omicron variant.\n",
      "Studies underwayAt the present time, WHO is coordinating with a large number of researchers around the world to better understand Omicron.\n",
      "\n",
      "\n",
      "Keywords:\n",
      "\n",
      "\n",
      "['update', 'vaccines', 'studies', 'variant', 'understand', 'disease', 'variants', 'information', 'covid19', 'omicron', 'including']\n"
     ]
    }
   ],
   "source": [
    "for i in range(4):\n",
    "  article=[0,1,2,3]\n",
    "  article[i] = Article(lst[i]) \n",
    "  article[i].download() \n",
    "  article[i].parse() \n",
    "  article[i].nlp() \n",
    "  print(\"\\n\")\n",
    "  print(\"Article No.\",i+1)\n",
    "  print(\"\\n\")\n",
    "  #prints the title of the article\n",
    "  print(\"Title:\") \n",
    "  print(article[i].title)  \n",
    "  print(\"\\n\") \n",
    "  #prints the entire text of the article\n",
    "  print(\"Text:\") \n",
    "  print(article[i].text) \n",
    "  print(\"\\n\") \n",
    "  #prints the summary of the article\n",
    "  print(\"Summary:\") \n",
    "  print(article[i].summary)\n",
    "  print(\"\\n\") \n",
    "  #prints the keywords of the article\n",
    "  print(\"Keywords:\")\n",
    "  print(\"\\n\")\n",
    "  print(article[i].keywords)  \n",
    "  #storing the article in a text format\n",
    "  file1=open(\"NewsFile{}.txt\".format(i+1), \"w+\")\n",
    "  file1.write(\"Title:\\n\")\n",
    "  file1.write(article[i].title)\n",
    "  file1.write(\"\\n\\nArticle Text:\\n\")\n",
    "  file1.write(article[i].text)\n",
    "  file1.write(\"\\n\\nArticle Summary:\\n\")\n",
    "  file1.write(article[i].summary)\n",
    "  file1.write(\"\\n\\n\\nArticle Keywords:\\n\")\n",
    "  keywords='\\n'.join(article[i].keywords)\n",
    "  file1.write(keywords)\n",
    "  file1.close()"
   ]
  },
  {
   "cell_type": "code",
   "execution_count": null,
   "metadata": {
    "id": "iO5SH2keTHIf"
   },
   "outputs": [],
   "source": [
    "import math\n",
    "import string\n",
    "import sys\n",
    "\n",
    "def read_file(filename):\n",
    "\t\n",
    "\ttry:\n",
    "\t\twith open(filename, 'r') as f:\n",
    "\t\t\tdata = f.read()\n",
    "\t\treturn data\n",
    "\t\n",
    "\texcept IOError:\n",
    "\t\tprint(\"Error opening or reading input file: \", filename)\n",
    "\t\tsys.exit()\n"
   ]
  },
  {
   "cell_type": "code",
   "execution_count": null,
   "metadata": {
    "id": "Zj-eLOq9TyMX"
   },
   "outputs": [],
   "source": [
    "translation_table = str.maketrans(string.punctuation+string.ascii_uppercase,\n",
    "\t\t\t\t\t\t\t\t\t\" \"*len(string.punctuation)+string.ascii_lowercase)\n",
    "\t"
   ]
  },
  {
   "cell_type": "code",
   "execution_count": null,
   "metadata": {
    "id": "AJrcGuFdVSCo"
   },
   "outputs": [],
   "source": [
    "def get_words(text):\n",
    "\t\n",
    "\ttext = text.translate(translation_table)\n",
    "\tword_list = text.split()\n",
    "\t\n",
    "\treturn word_list\n"
   ]
  },
  {
   "cell_type": "code",
   "execution_count": null,
   "metadata": {
    "id": "UaFcMCH3VZKQ"
   },
   "outputs": [],
   "source": [
    "def count_frequency(word_list):\n",
    "\t\n",
    "\tD = {}\n",
    "\t\n",
    "\tfor new_word in word_list:\n",
    "\t\t\n",
    "\t\tif new_word in D:\n",
    "\t\t\tD[new_word] = D[new_word] + 1\n",
    "\t\t\t\n",
    "\t\telse:\n",
    "\t\t\tD[new_word] = 1\n",
    "\t\t\t\n",
    "\treturn D\n"
   ]
  },
  {
   "cell_type": "code",
   "execution_count": null,
   "metadata": {
    "id": "vEji8-acV00I"
   },
   "outputs": [],
   "source": [
    "def word_frequencies(filename):\n",
    "\t\n",
    "\tline_list = read_file(filename)\n",
    "\tword_list = get_words(line_list)\n",
    "\tfreq_mapping = count_frequency(word_list)\n",
    "\n",
    "\tprint(\"File\", filename, \":\", )\n",
    "\treturn freq_mapping\n",
    "\n"
   ]
  },
  {
   "cell_type": "code",
   "execution_count": null,
   "metadata": {
    "id": "05Gt5MdoWDuQ"
   },
   "outputs": [],
   "source": [
    "def dotProduct(D1, D2):\n",
    "\tSum = 0.0\n",
    "\t\n",
    "\tfor key in D1:\n",
    "\t\t\n",
    "\t\tif key in D2:\n",
    "\t\t\tSum += (D1[key] * D2[key])\n",
    "\t\t\t\n",
    "\treturn Sum"
   ]
  },
  {
   "cell_type": "code",
   "execution_count": null,
   "metadata": {
    "id": "D-Vr-mA7TgZH"
   },
   "outputs": [],
   "source": [
    "def vector_angle(D1, D2):\n",
    "\tnumerator = dotProduct(D1, D2)\n",
    "\tdenominator = math.sqrt(dotProduct(D1, D1)*dotProduct(D2, D2))\n",
    "\t\n",
    "\treturn math.acos(numerator / denominator)\n"
   ]
  },
  {
   "cell_type": "code",
   "execution_count": null,
   "metadata": {
    "colab": {
     "base_uri": "https://localhost:8080/"
    },
    "id": "fUn-aNLuW0iC",
    "outputId": "c03deb69-3f5f-4d60-fca0-003e28f588a6"
   },
   "outputs": [
    {
     "name": "stdout",
     "output_type": "stream",
     "text": [
      "File NewsFile1.txt :\n",
      "File NewsFile1.txt :\n",
      "The distance between the documents is:  0.000 (radians)\n",
      "The percentage similarity between NewsFile1.txt and NewsFile1.txt is:  100.00 %\n",
      " \n",
      "File NewsFile1.txt :\n",
      "File NewsFile2.txt :\n",
      "The distance between the documents is:  0.901 (radians)\n",
      "The percentage similarity between NewsFile1.txt and NewsFile2.txt is:  9.87 %\n",
      " \n",
      "File NewsFile1.txt :\n",
      "File NewsFile3.txt :\n",
      "The distance between the documents is:  0.743 (radians)\n",
      "The percentage similarity between NewsFile1.txt and NewsFile3.txt is:  25.65 %\n",
      " \n",
      "File NewsFile1.txt :\n",
      "File NewsFile4.txt :\n",
      "The distance between the documents is:  0.817 (radians)\n",
      "The percentage similarity between NewsFile1.txt and NewsFile4.txt is:  18.26 %\n",
      " \n",
      "File NewsFile2.txt :\n",
      "File NewsFile2.txt :\n",
      "The distance between the documents is:  0.000 (radians)\n",
      "The percentage similarity between NewsFile2.txt and NewsFile2.txt is:  100.00 %\n",
      " \n",
      "File NewsFile2.txt :\n",
      "File NewsFile3.txt :\n",
      "The distance between the documents is:  0.857 (radians)\n",
      "The percentage similarity between NewsFile2.txt and NewsFile3.txt is:  14.32 %\n",
      " \n",
      "File NewsFile2.txt :\n",
      "File NewsFile4.txt :\n",
      "The distance between the documents is:  0.996 (radians)\n",
      "The percentage similarity between NewsFile2.txt and NewsFile4.txt is:  0.44 %\n",
      " \n",
      "File NewsFile3.txt :\n",
      "File NewsFile3.txt :\n",
      "The distance between the documents is:  0.000 (radians)\n",
      "The percentage similarity between NewsFile3.txt and NewsFile3.txt is:  100.00 %\n",
      " \n",
      "File NewsFile3.txt :\n",
      "File NewsFile4.txt :\n",
      "The distance between the documents is:  0.773 (radians)\n",
      "The percentage similarity between NewsFile3.txt and NewsFile4.txt is:  22.71 %\n",
      " \n",
      "File NewsFile4.txt :\n",
      "File NewsFile4.txt :\n",
      "The distance between the documents is:  0.000 (radians)\n",
      "The percentage similarity between NewsFile4.txt and NewsFile4.txt is:  100.00 %\n",
      " \n"
     ]
    }
   ],
   "source": [
    "def documentSimilarity(filename_1, filename_2):\n",
    "\n",
    "\tsorted_word_list_1 = word_frequencies(filename_1)\n",
    "\tsorted_word_list_2 = word_frequencies(filename_2)\n",
    "\tdistance = vector_angle(sorted_word_list_1, sorted_word_list_2)\n",
    "\tif(distance>1):\n",
    "\t\tdistance=distance-0.5\n",
    "\tprint(\"The distance between the documents is: % 0.3f (radians)\"% distance)\n",
    "\tprint(\"The percentage similarity between\", filename_1, \"and\" ,filename_2, \"is: % 0.2f\" % ((1-distance)*100),\"%\")\n",
    "\n",
    "for i in range(1,5):\n",
    "\tfor j in range(i,5):\n",
    "\t\tdocumentSimilarity('NewsFile{}.txt'.format(i), 'NewsFile{}.txt'.format(j))\n",
    "\t\tprint(\" \")"
   ]
  }
 ],
 "metadata": {
  "colab": {
   "authorship_tag": "ABX9TyO9vxcjqZkpLlLdqCP2vPE4",
   "collapsed_sections": [],
   "include_colab_link": true,
   "name": "Minor.ipynb",
   "provenance": []
  },
  "kernelspec": {
   "display_name": "Python 3 (ipykernel)",
   "language": "python",
   "name": "python3"
  },
  "language_info": {
   "codemirror_mode": {
    "name": "ipython",
    "version": 3
   },
   "file_extension": ".py",
   "mimetype": "text/x-python",
   "name": "python",
   "nbconvert_exporter": "python",
   "pygments_lexer": "ipython3",
   "version": "3.9.7"
  }
 },
 "nbformat": 4,
 "nbformat_minor": 1
}
